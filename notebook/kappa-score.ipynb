{
 "cells": [
  {
   "cell_type": "markdown",
   "metadata": {},
   "source": [
    "# Cohen's kappa score\n",
    "\n",
    "Computes the kappa socre for two sets of annotated data stored in a .txt file. The program assumes that the annotations are categorical.\n",
    "\n",
    "If the kappa score is greater that 0.8, then it is considered excellent agreement, 0.6 to 0.8 is substantial agreement, and 0.4 to 0.6 iss considered moderte agreement."
   ]
  },
  {
   "cell_type": "code",
   "execution_count": 2,
   "metadata": {},
   "outputs": [],
   "source": [
    "from sklearn.metrics import cohen_kappa_score"
   ]
  },
  {
   "cell_type": "code",
   "execution_count": 3,
   "metadata": {},
   "outputs": [],
   "source": [
    "def read_annotations_from_file(file_path):\n",
    "    \"\"\"\n",
    "    Read annotations from a text file and return as a list of labels.\n",
    "\n",
    "    :param file_path: The path to the text file containing annotations.\n",
    "    :return: List of labels.\n",
    "    \"\"\"\n",
    "    with open(file_path, 'r') as file:\n",
    "        lines = [line.strip() for line in file]\n",
    "\n",
    "    # Extracting labels from the last space-separated element of each line\n",
    "    annotations = [line.split()[-1] for line in lines if len(line.split()) > 1]\n",
    "\n",
    "    return annotations"
   ]
  },
  {
   "cell_type": "code",
   "execution_count": 4,
   "metadata": {},
   "outputs": [],
   "source": [
    "def compute_kappa_score(annotations1, annotations2):\n",
    "    \"\"\"\n",
    "    Compute Cohen's kappa score for two sets of annotations.\n",
    "\n",
    "    :param annotations1: List of annotations from the first annotator (list of categorical labels).\n",
    "    :param annotations2: List of annotations from the second annotator (list of categorical labels).\n",
    "    :return: Cohen's kappa score.\n",
    "    \"\"\"\n",
    "    # Ensure the two lists have the same length\n",
    "    assert len(annotations1) == len(annotations2), \"Annotations lists must have the same length.\"\n",
    "\n",
    "    # Create a set of all unique labels from both annotators\n",
    "    all_labels = set(annotations1 + annotations2)\n",
    "\n",
    "    # Convert labels to integer indices\n",
    "    label_to_index = {label: index for index, label in enumerate(all_labels)}\n",
    "    annotations1_indices = [label_to_index[label] for label in annotations1]\n",
    "    annotations2_indices = [label_to_index[label] for label in annotations2]\n",
    "\n",
    "    return cohen_kappa_score(annotations1_indices, annotations2_indices)"
   ]
  },
  {
   "cell_type": "code",
   "execution_count": 5,
   "metadata": {},
   "outputs": [
    {
     "name": "stdout",
     "output_type": "stream",
     "text": [
      "Cohen's Kappa Score: 0.899197510752265\n"
     ]
    }
   ],
   "source": [
    "if __name__ == \"__main__\":\n",
    "    # Example usage:\n",
    "    file_path_annotator1 = \"/Users/ellyzamaripapas/Code/NER_Project/data/annotated_data/yes-bisaya-1.txt\"\n",
    "    file_path_annotator2 = \"/Users/ellyzamaripapas/Code/NER_Project/data/annotated_data/yes-bisaya-2.txt\"\n",
    "\n",
    "    annotations_annotator1 = read_annotations_from_file(file_path_annotator1)\n",
    "    annotations_annotator2 = read_annotations_from_file(file_path_annotator2)\n",
    "\n",
    "    kappa_score = compute_kappa_score(annotations_annotator1, annotations_annotator2)\n",
    "    print(f\"Cohen's Kappa Score: {kappa_score}\")"
   ]
  },
  {
   "cell_type": "code",
   "execution_count": null,
   "metadata": {},
   "outputs": [],
   "source": []
  }
 ],
 "metadata": {
  "kernelspec": {
   "display_name": "base",
   "language": "python",
   "name": "python3"
  },
  "language_info": {
   "codemirror_mode": {
    "name": "ipython",
    "version": 3
   },
   "file_extension": ".py",
   "mimetype": "text/x-python",
   "name": "python",
   "nbconvert_exporter": "python",
   "pygments_lexer": "ipython3",
   "version": "3.9.13"
  },
  "orig_nbformat": 4
 },
 "nbformat": 4,
 "nbformat_minor": 2
}
